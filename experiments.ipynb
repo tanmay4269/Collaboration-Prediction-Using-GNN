{
 "cells": [
  {
   "cell_type": "code",
   "execution_count": null,
   "metadata": {},
   "outputs": [],
   "source": [
    "from dataset import OpenAlexGraphDataset\n",
    "from main import main as trainer\n"
   ]
  },
  {
   "cell_type": "code",
   "execution_count": null,
   "metadata": {},
   "outputs": [],
   "source": [
    "dataset = OpenAlexGraphDataset(\n",
    "    num_authors=-1, \n",
    "    use_cache=False,\n",
    "    use_citation_count=False,\n",
    "    use_work_count=False,\n",
    "    use_institution_embedding=False\n",
    ")\n",
    "\n",
    "trainer(dataset_builder=dataset)\n"
   ]
  },
  {
   "cell_type": "code",
   "execution_count": null,
   "metadata": {},
   "outputs": [],
   "source": [
    "dataset = OpenAlexGraphDataset(\n",
    "    num_authors=-1, \n",
    "    use_cache=False,\n",
    "    use_citation_count=True,\n",
    "    use_work_count=False,\n",
    "    use_institution_embedding=False\n",
    ")\n",
    "\n",
    "trainer(dataset_builder=dataset)"
   ]
  },
  {
   "cell_type": "code",
   "execution_count": null,
   "metadata": {},
   "outputs": [],
   "source": [
    "dataset = OpenAlexGraphDataset(\n",
    "    num_authors=-1, \n",
    "    use_cache=False,\n",
    "    use_citation_count=False,\n",
    "    use_work_count=True,\n",
    "    use_institution_embedding=False\n",
    ")\n",
    "\n",
    "trainer(dataset_builder=dataset)"
   ]
  },
  {
   "cell_type": "code",
   "execution_count": null,
   "metadata": {},
   "outputs": [],
   "source": [
    "dataset = OpenAlexGraphDataset(\n",
    "    num_authors=-1, \n",
    "    use_cache=False,\n",
    "    use_citation_count=True,\n",
    "    use_work_count=True,\n",
    "    use_institution_embedding=False\n",
    ")\n",
    "\n",
    "trainer(dataset_builder=dataset)\n"
   ]
  },
  {
   "cell_type": "code",
   "execution_count": null,
   "metadata": {},
   "outputs": [],
   "source": [
    "dataset = OpenAlexGraphDataset(\n",
    "    num_authors=-1, \n",
    "    use_cache=False,\n",
    "    use_citation_count=False,\n",
    "    use_work_count=False,\n",
    "    use_institution_embedding=True\n",
    ")\n",
    "\n",
    "trainer(dataset_builder=dataset)"
   ]
  },
  {
   "cell_type": "code",
   "execution_count": null,
   "metadata": {},
   "outputs": [],
   "source": [
    "dataset.sentence_model.get_sentence_embedding_dimension()"
   ]
  },
  {
   "cell_type": "code",
   "execution_count": null,
   "metadata": {},
   "outputs": [],
   "source": [
    "dataset = OpenAlexGraphDataset(\n",
    "    num_authors=-1, \n",
    "    use_cache=False,\n",
    "    use_citation_count=True,\n",
    "    use_work_count=False,\n",
    "    use_institution_embedding=True\n",
    ")\n",
    "\n",
    "trainer(dataset_builder=dataset)\n"
   ]
  },
  {
   "cell_type": "code",
   "execution_count": null,
   "metadata": {},
   "outputs": [],
   "source": [
    "dataset = OpenAlexGraphDataset(\n",
    "    num_authors=-1, \n",
    "    use_cache=False,\n",
    "    use_citation_count=True,\n",
    "    use_work_count=True,\n",
    "    use_institution_embedding=True\n",
    ")\n",
    "\n",
    "trainer(dataset_builder=dataset)\n"
   ]
  },
  {
   "cell_type": "code",
   "execution_count": null,
   "metadata": {},
   "outputs": [],
   "source": []
  }
 ],
 "metadata": {
  "kernelspec": {
   "display_name": "ml-graphs",
   "language": "python",
   "name": "python3"
  },
  "language_info": {
   "codemirror_mode": {
    "name": "ipython",
    "version": 3
   },
   "file_extension": ".py",
   "mimetype": "text/x-python",
   "name": "python",
   "nbconvert_exporter": "python",
   "pygments_lexer": "ipython3",
   "version": "3.12.9"
  }
 },
 "nbformat": 4,
 "nbformat_minor": 2
}
