{
 "cells": [
  {
   "cell_type": "code",
   "execution_count": 1,
   "metadata": {},
   "outputs": [
    {
     "name": "stderr",
     "output_type": "stream",
     "text": [
      "/home/tvg/miniconda3/envs/ml-graphs/lib/python3.12/site-packages/tqdm/auto.py:21: TqdmWarning: IProgress not found. Please update jupyter and ipywidgets. See https://ipywidgets.readthedocs.io/en/stable/user_install.html\n",
      "  from .autonotebook import tqdm as notebook_tqdm\n"
     ]
    }
   ],
   "source": [
    "from dataset import OpenAlexGraphDataset\n",
    "from main import main as trainer\n"
   ]
  },
  {
   "cell_type": "code",
   "execution_count": 3,
   "metadata": {},
   "outputs": [
    {
     "name": "stdout",
     "output_type": "stream",
     "text": [
      "Loading sentence model...\n",
      "Done!\n",
      "Building datasets...\n",
      "Done!\n",
      "Saving processed data to cache...\n",
      "Done!\n",
      "Run 1/10\n",
      "Run 2/10\n",
      "Run 3/10\n",
      "Run 4/10\n",
      "Run 5/10\n",
      "Run 6/10\n",
      "Run 7/10\n",
      "Run 8/10\n",
      "Run 9/10\n",
      "Run 10/10\n",
      "\n",
      "Final Statistics over 10 runs with the best config:\n",
      "--------------------------------------------------\n",
      "\n",
      "Untrained Val:\n",
      "  roc_auc : 0.5832 ± 0.1234\n",
      "  pr_auc  : 0.6399 ± 0.0926\n",
      "\n",
      "Untrained Test:\n",
      "  roc_auc : 0.5033 ± 0.0979\n",
      "  pr_auc  : 0.5537 ± 0.0942\n",
      "\n",
      "Final Val:\n",
      "  roc_auc : 0.8580 ± 0.0350\n",
      "  pr_auc  : 0.8269 ± 0.0359\n",
      "\n",
      "Final Test:\n",
      "  roc_auc : 0.7340 ± 0.0511\n",
      "  pr_auc  : 0.7446 ± 0.0419\n",
      "--------------------------------------------------\n"
     ]
    }
   ],
   "source": [
    "dataset = OpenAlexGraphDataset(\n",
    "    num_authors=-1, \n",
    "    use_cache=False,\n",
    "    use_citation_count=False,\n",
    "    use_work_count=False,\n",
    "    use_institution_embedding=False\n",
    ")\n",
    "\n",
    "trainer(dataset_builder=dataset)\n"
   ]
  },
  {
   "cell_type": "code",
   "execution_count": 4,
   "metadata": {},
   "outputs": [
    {
     "name": "stdout",
     "output_type": "stream",
     "text": [
      "Loading sentence model...\n",
      "Done!\n",
      "Building datasets...\n",
      "Done!\n",
      "Saving processed data to cache...\n",
      "Done!\n",
      "Run 1/10\n",
      "Run 2/10\n",
      "Run 3/10\n",
      "Run 4/10\n",
      "Run 5/10\n",
      "Run 6/10\n",
      "Run 7/10\n",
      "Run 8/10\n",
      "Run 9/10\n",
      "Run 10/10\n",
      "\n",
      "Final Statistics over 10 runs with the best config:\n",
      "--------------------------------------------------\n",
      "\n",
      "Untrained Val:\n",
      "  roc_auc : 0.5785 ± 0.1235\n",
      "  pr_auc  : 0.6257 ± 0.0768\n",
      "\n",
      "Untrained Test:\n",
      "  roc_auc : 0.5137 ± 0.0905\n",
      "  pr_auc  : 0.5349 ± 0.0668\n",
      "\n",
      "Final Val:\n",
      "  roc_auc : 0.9340 ± 0.0081\n",
      "  pr_auc  : 0.9175 ± 0.0062\n",
      "\n",
      "Final Test:\n",
      "  roc_auc : 0.7709 ± 0.0515\n",
      "  pr_auc  : 0.8047 ± 0.0405\n",
      "--------------------------------------------------\n"
     ]
    }
   ],
   "source": [
    "dataset = OpenAlexGraphDataset(\n",
    "    num_authors=-1, \n",
    "    use_cache=False,\n",
    "    use_citation_count=True,\n",
    "    use_work_count=False,\n",
    "    use_institution_embedding=False\n",
    ")\n",
    "\n",
    "trainer(dataset_builder=dataset)"
   ]
  },
  {
   "cell_type": "code",
   "execution_count": 5,
   "metadata": {},
   "outputs": [
    {
     "name": "stdout",
     "output_type": "stream",
     "text": [
      "Loading sentence model...\n",
      "Done!\n",
      "Building datasets...\n",
      "Done!\n",
      "Saving processed data to cache...\n",
      "Done!\n",
      "Run 1/10\n",
      "Run 2/10\n",
      "Run 3/10\n",
      "Run 4/10\n",
      "Run 5/10\n",
      "Run 6/10\n",
      "Run 7/10\n",
      "Run 8/10\n",
      "Run 9/10\n",
      "Run 10/10\n",
      "\n",
      "Final Statistics over 10 runs with the best config:\n",
      "--------------------------------------------------\n",
      "\n",
      "Untrained Val:\n",
      "  roc_auc : 0.5917 ± 0.1255\n",
      "  pr_auc  : 0.6617 ± 0.0739\n",
      "\n",
      "Untrained Test:\n",
      "  roc_auc : 0.5826 ± 0.0889\n",
      "  pr_auc  : 0.6542 ± 0.0429\n",
      "\n",
      "Final Val:\n",
      "  roc_auc : 0.9101 ± 0.0146\n",
      "  pr_auc  : 0.8724 ± 0.0250\n",
      "\n",
      "Final Test:\n",
      "  roc_auc : 0.7358 ± 0.0122\n",
      "  pr_auc  : 0.7642 ± 0.0263\n",
      "--------------------------------------------------\n"
     ]
    }
   ],
   "source": [
    "dataset = OpenAlexGraphDataset(\n",
    "    num_authors=-1, \n",
    "    use_cache=False,\n",
    "    use_citation_count=False,\n",
    "    use_work_count=True,\n",
    "    use_institution_embedding=False\n",
    ")\n",
    "\n",
    "trainer(dataset_builder=dataset)"
   ]
  },
  {
   "cell_type": "code",
   "execution_count": 6,
   "metadata": {},
   "outputs": [
    {
     "name": "stdout",
     "output_type": "stream",
     "text": [
      "Loading sentence model...\n",
      "Done!\n",
      "Building datasets...\n",
      "Done!\n",
      "Saving processed data to cache...\n",
      "Done!\n",
      "Run 1/10\n",
      "Run 2/10\n",
      "Run 3/10\n",
      "Run 4/10\n",
      "Run 5/10\n",
      "Run 6/10\n",
      "Run 7/10\n",
      "Run 8/10\n",
      "Run 9/10\n",
      "Run 10/10\n",
      "\n",
      "Final Statistics over 10 runs with the best config:\n",
      "--------------------------------------------------\n",
      "\n",
      "Untrained Val:\n",
      "  roc_auc : 0.5212 ± 0.0794\n",
      "  pr_auc  : 0.6053 ± 0.0497\n",
      "\n",
      "Untrained Test:\n",
      "  roc_auc : 0.5289 ± 0.0886\n",
      "  pr_auc  : 0.5997 ± 0.0719\n",
      "\n",
      "Final Val:\n",
      "  roc_auc : 0.9128 ± 0.0157\n",
      "  pr_auc  : 0.8903 ± 0.0203\n",
      "\n",
      "Final Test:\n",
      "  roc_auc : 0.7711 ± 0.0477\n",
      "  pr_auc  : 0.7919 ± 0.0386\n",
      "--------------------------------------------------\n"
     ]
    }
   ],
   "source": [
    "dataset = OpenAlexGraphDataset(\n",
    "    num_authors=-1, \n",
    "    use_cache=False,\n",
    "    use_citation_count=True,\n",
    "    use_work_count=True,\n",
    "    use_institution_embedding=False\n",
    ")\n",
    "\n",
    "trainer(dataset_builder=dataset)\n"
   ]
  },
  {
   "cell_type": "code",
   "execution_count": 7,
   "metadata": {},
   "outputs": [
    {
     "name": "stdout",
     "output_type": "stream",
     "text": [
      "Loading sentence model...\n",
      "Done!\n",
      "Building datasets...\n",
      "Done!\n",
      "Saving processed data to cache...\n",
      "Done!\n",
      "Run 1/10\n",
      "Run 2/10\n",
      "Run 3/10\n",
      "Run 4/10\n",
      "Run 5/10\n",
      "Run 6/10\n",
      "Run 7/10\n",
      "Run 8/10\n",
      "Run 9/10\n",
      "Run 10/10\n",
      "\n",
      "Final Statistics over 10 runs with the best config:\n",
      "--------------------------------------------------\n",
      "\n",
      "Untrained Val:\n",
      "  roc_auc : 0.5326 ± 0.0390\n",
      "  pr_auc  : 0.6756 ± 0.0396\n",
      "\n",
      "Untrained Test:\n",
      "  roc_auc : 0.4979 ± 0.0415\n",
      "  pr_auc  : 0.6148 ± 0.0391\n",
      "\n",
      "Final Val:\n",
      "  roc_auc : 0.9298 ± 0.0083\n",
      "  pr_auc  : 0.8956 ± 0.0118\n",
      "\n",
      "Final Test:\n",
      "  roc_auc : 0.8207 ± 0.0407\n",
      "  pr_auc  : 0.8214 ± 0.0235\n",
      "--------------------------------------------------\n"
     ]
    }
   ],
   "source": [
    "dataset = OpenAlexGraphDataset(\n",
    "    num_authors=-1, \n",
    "    use_cache=False,\n",
    "    use_citation_count=False,\n",
    "    use_work_count=False,\n",
    "    use_institution_embedding=True\n",
    ")\n",
    "\n",
    "trainer(dataset_builder=dataset)"
   ]
  },
  {
   "cell_type": "code",
   "execution_count": 8,
   "metadata": {},
   "outputs": [
    {
     "data": {
      "text/plain": [
       "384"
      ]
     },
     "execution_count": 8,
     "metadata": {},
     "output_type": "execute_result"
    }
   ],
   "source": [
    "dataset.sentence_model.get_sentence_embedding_dimension()"
   ]
  },
  {
   "cell_type": "code",
   "execution_count": 9,
   "metadata": {},
   "outputs": [
    {
     "name": "stdout",
     "output_type": "stream",
     "text": [
      "Loading sentence model...\n",
      "Done!\n",
      "Building datasets...\n",
      "Done!\n",
      "Saving processed data to cache...\n",
      "Done!\n",
      "Run 1/10\n",
      "Run 2/10\n",
      "Run 3/10\n",
      "Run 4/10\n",
      "Run 5/10\n",
      "Run 6/10\n",
      "Run 7/10\n",
      "Run 8/10\n",
      "Run 9/10\n",
      "Run 10/10\n",
      "\n",
      "Final Statistics over 10 runs with the best config:\n",
      "--------------------------------------------------\n",
      "\n",
      "Untrained Val:\n",
      "  roc_auc : 0.5795 ± 0.0545\n",
      "  pr_auc  : 0.6781 ± 0.0390\n",
      "\n",
      "Untrained Test:\n",
      "  roc_auc : 0.4820 ± 0.0346\n",
      "  pr_auc  : 0.5705 ± 0.0578\n",
      "\n",
      "Final Val:\n",
      "  roc_auc : 0.9229 ± 0.0126\n",
      "  pr_auc  : 0.8937 ± 0.0089\n",
      "\n",
      "Final Test:\n",
      "  roc_auc : 0.8438 ± 0.0316\n",
      "  pr_auc  : 0.8269 ± 0.0224\n",
      "--------------------------------------------------\n"
     ]
    }
   ],
   "source": [
    "dataset = OpenAlexGraphDataset(\n",
    "    num_authors=-1, \n",
    "    use_cache=False,\n",
    "    use_citation_count=True,\n",
    "    use_work_count=False,\n",
    "    use_institution_embedding=True\n",
    ")\n",
    "\n",
    "trainer(dataset_builder=dataset)\n"
   ]
  },
  {
   "cell_type": "code",
   "execution_count": 10,
   "metadata": {},
   "outputs": [
    {
     "name": "stdout",
     "output_type": "stream",
     "text": [
      "Loading sentence model...\n",
      "Done!\n",
      "Building datasets...\n",
      "Done!\n",
      "Saving processed data to cache...\n",
      "Done!\n",
      "Run 1/10\n",
      "Run 2/10\n",
      "Run 3/10\n",
      "Run 4/10\n",
      "Run 5/10\n",
      "Run 6/10\n",
      "Run 7/10\n",
      "Run 8/10\n",
      "Run 9/10\n",
      "Run 10/10\n",
      "\n",
      "Final Statistics over 10 runs with the best config:\n",
      "--------------------------------------------------\n",
      "\n",
      "Untrained Val:\n",
      "  roc_auc : 0.5707 ± 0.0567\n",
      "  pr_auc  : 0.6844 ± 0.0474\n",
      "\n",
      "Untrained Test:\n",
      "  roc_auc : 0.5114 ± 0.0550\n",
      "  pr_auc  : 0.6063 ± 0.0538\n",
      "\n",
      "Final Val:\n",
      "  roc_auc : 0.9113 ± 0.0156\n",
      "  pr_auc  : 0.8824 ± 0.0164\n",
      "\n",
      "Final Test:\n",
      "  roc_auc : 0.8005 ± 0.0387\n",
      "  pr_auc  : 0.7981 ± 0.0284\n",
      "--------------------------------------------------\n"
     ]
    }
   ],
   "source": [
    "dataset = OpenAlexGraphDataset(\n",
    "    num_authors=-1, \n",
    "    use_cache=False,\n",
    "    use_citation_count=True,\n",
    "    use_work_count=True,\n",
    "    use_institution_embedding=True\n",
    ")\n",
    "\n",
    "trainer(dataset_builder=dataset)\n"
   ]
  },
  {
   "cell_type": "markdown",
   "metadata": {},
   "source": [
    "# Varying number of authors"
   ]
  },
  {
   "cell_type": "code",
   "execution_count": null,
   "metadata": {},
   "outputs": [],
   "source": [
    "dataset = OpenAlexGraphDataset(\n",
    "    num_authors=100, \n",
    "    use_cache=False,\n",
    "    use_citation_count=True,\n",
    "    use_work_count=False,\n",
    "    use_institution_embedding=True\n",
    ")\n",
    "\n",
    "trainer(dataset_builder=dataset)\n"
   ]
  }
 ],
 "metadata": {
  "kernelspec": {
   "display_name": "ml-graphs",
   "language": "python",
   "name": "python3"
  },
  "language_info": {
   "codemirror_mode": {
    "name": "ipython",
    "version": 3
   },
   "file_extension": ".py",
   "mimetype": "text/x-python",
   "name": "python",
   "nbconvert_exporter": "python",
   "pygments_lexer": "ipython3",
   "version": "3.12.9"
  }
 },
 "nbformat": 4,
 "nbformat_minor": 2
}
