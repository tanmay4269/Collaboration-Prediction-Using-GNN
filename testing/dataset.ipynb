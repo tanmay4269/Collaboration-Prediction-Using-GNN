{
 "cells": [
  {
   "cell_type": "code",
   "execution_count": 1,
   "id": "004fc544",
   "metadata": {},
   "outputs": [
    {
     "name": "stderr",
     "output_type": "stream",
     "text": [
      "100%|██████████| 200/200 [00:00<00:00, 1212.41it/s]\n"
     ]
    }
   ],
   "source": [
    "from tqdm import tqdm\n",
    "import json\n",
    "import networkx as nx\n",
    "from datetime import datetime\n",
    "\n",
    "G = nx.Graph()\n",
    "max_citations = -1\n",
    "\n",
    "# This json file has all the filtered data provided by OpenAlex API\n",
    "with open(\"../data/openalex_cs_papers.json\", \"r\", encoding=\"utf-8\") as f:\n",
    "    data = json.load(f)\n",
    "\n",
    "# Collecting author and co-authorship features\n",
    "for work in tqdm(data[\"results\"]):\n",
    "    authors = []\n",
    "    cited_by = work.get(\"cited_by_count\", 0)  \n",
    "    publication_date_str = work.get(\"publication_date\")\n",
    "    assert publication_date_str is not None\n",
    "    \n",
    "    publication_date = datetime.strptime(publication_date_str, '%Y-%m-%d')\n",
    "\n",
    "    # Adding/updating attributes for each author\n",
    "    for author_data in work[\"authorships\"]:\n",
    "        author_id = author_data[\"author\"][\"id\"]\n",
    "        affiliation = (\n",
    "            author_data[\"institutions\"][0][\"display_name\"]\n",
    "            if author_data.get(\"institutions\")\n",
    "            else \"Unknown\"\n",
    "        )\n",
    "        \n",
    "        authors.append({\"id\": author_id, \"title\": work['title']})\n",
    "\n",
    "        # Custom attributes for author nodes\n",
    "        if author_id not in G:\n",
    "            G.add_node(\n",
    "                author_id,\n",
    "                affiliated_institution=affiliation,\n",
    "                citation_count=cited_by\n",
    "            )\n",
    "        else:\n",
    "            G.nodes[author_id][\"citation_count\"] += cited_by\n",
    "\n",
    "        max_citations = max(max_citations, G.nodes[author_id][\"citation_count\"])\n",
    "\n",
    "    # Adding co-authorship edges\n",
    "    for i in range(len(authors)):\n",
    "        for j in range(i + 1, len(authors)):\n",
    "            id_1, id_2 = authors[i][\"id\"], authors[j][\"id\"]\n",
    "            if G.has_edge(id_1, id_2):\n",
    "                G[id_1][id_2][\"title\"].append(authors[i][\"title\"])\n",
    "                G[id_1][id_2][\"publication_dates\"].append(publication_date)\n",
    "            else:\n",
    "                G.add_edge(id_1, id_2)\n",
    "                G[id_1][id_2][\"title\"] = [authors[i][\"title\"]]\n",
    "                G[id_1][id_2][\"publication_dates\"] = [publication_date]\n"
   ]
  },
  {
   "cell_type": "code",
   "execution_count": 2,
   "id": "6a428b65",
   "metadata": {},
   "outputs": [
    {
     "data": {
      "text/plain": [
       "dict_keys(['id', 'doi', 'title', 'display_name', 'publication_year', 'publication_date', 'ids', 'language', 'primary_location', 'type', 'type_crossref', 'indexed_in', 'open_access', 'authorships', 'institution_assertions', 'countries_distinct_count', 'institutions_distinct_count', 'corresponding_author_ids', 'corresponding_institution_ids', 'apc_list', 'apc_paid', 'fwci', 'has_fulltext', 'fulltext_origin', 'cited_by_count', 'citation_normalized_percentile', 'cited_by_percentile_year', 'biblio', 'is_retracted', 'is_paratext', 'primary_topic', 'topics', 'keywords', 'concepts', 'mesh', 'locations_count', 'locations', 'best_oa_location', 'sustainable_development_goals', 'grants', 'datasets', 'versions', 'referenced_works_count', 'referenced_works', 'related_works', 'abstract_inverted_index', 'abstract_inverted_index_v3', 'cited_by_api_url', 'counts_by_year', 'updated_date', 'created_date'])"
      ]
     },
     "execution_count": 2,
     "metadata": {},
     "output_type": "execute_result"
    }
   ],
   "source": [
    "data[\"results\"][0].keys()"
   ]
  },
  {
   "cell_type": "code",
   "execution_count": 4,
   "id": "ba2d00d7",
   "metadata": {},
   "outputs": [
    {
     "data": {
      "text/plain": [
       "[{'id': 'https://openalex.org/T10206',\n",
       "  'display_name': 'Meta-analysis and systematic reviews',\n",
       "  'score': 0.9993,\n",
       "  'subfield': {'id': 'https://openalex.org/subfields/1804',\n",
       "   'display_name': 'Statistics, Probability and Uncertainty'},\n",
       "  'field': {'id': 'https://openalex.org/fields/18',\n",
       "   'display_name': 'Decision Sciences'},\n",
       "  'domain': {'id': 'https://openalex.org/domains/2',\n",
       "   'display_name': 'Social Sciences'}},\n",
       " {'id': 'https://openalex.org/T10416',\n",
       "  'display_name': 'Traumatic Brain Injury Research',\n",
       "  'score': 0.9832,\n",
       "  'subfield': {'id': 'https://openalex.org/subfields/2713',\n",
       "   'display_name': 'Epidemiology'},\n",
       "  'field': {'id': 'https://openalex.org/fields/27',\n",
       "   'display_name': 'Medicine'},\n",
       "  'domain': {'id': 'https://openalex.org/domains/4',\n",
       "   'display_name': 'Health Sciences'}},\n",
       " {'id': 'https://openalex.org/T12443',\n",
       "  'display_name': 'Delphi Technique in Research',\n",
       "  'score': 0.9455,\n",
       "  'subfield': {'id': 'https://openalex.org/subfields/3312',\n",
       "   'display_name': 'Sociology and Political Science'},\n",
       "  'field': {'id': 'https://openalex.org/fields/33',\n",
       "   'display_name': 'Social Sciences'},\n",
       "  'domain': {'id': 'https://openalex.org/domains/2',\n",
       "   'display_name': 'Social Sciences'}}]"
      ]
     },
     "execution_count": 4,
     "metadata": {},
     "output_type": "execute_result"
    }
   ],
   "source": [
    "data[\"results\"][0]['topics']"
   ]
  },
  {
   "cell_type": "code",
   "execution_count": 19,
   "id": "fc07bc47",
   "metadata": {},
   "outputs": [
    {
     "name": "stdout",
     "output_type": "stream",
     "text": [
      "All topics:\n",
      "525\n",
      "246\n",
      "All sub-fields:\n",
      "525\n",
      "94\n",
      "All fields:\n",
      "525\n",
      "23\n",
      "All domains:\n",
      "525\n",
      "4\n"
     ]
    }
   ],
   "source": [
    "all_topics = []\n",
    "all_sub_fields = []\n",
    "all_fields = []\n",
    "all_domains = []\n",
    "for work in data[\"results\"]:\n",
    "    topics = []\n",
    "    sub_fields = []\n",
    "    fields = []\n",
    "    domains = []\n",
    "    for topic_dict in work['topics']:\n",
    "        topics.append(topic_dict['id'])\n",
    "        sub_fields.append(topic_dict['subfield']['id'])\n",
    "        fields.append(topic_dict['field']['id'])\n",
    "        domains.append(topic_dict['domain']['id'])\n",
    "    all_topics.extend(topics)\n",
    "    all_sub_fields.extend(sub_fields)\n",
    "    all_fields.extend(fields)\n",
    "    all_domains.extend(domains)\n",
    "print(\"All topics:\")\n",
    "print(len(all_topics))\n",
    "print(len(set(all_topics)))\n",
    "\n",
    "print(\"All sub-fields:\")\n",
    "print(len(all_sub_fields))\n",
    "print(len(set(all_sub_fields)))\n",
    "\n",
    "print(\"All fields:\")\n",
    "print(len(all_fields))\n",
    "print(len(set(all_fields)))\n",
    "\n",
    "print(\"All domains:\")\n",
    "print(len(all_domains))\n",
    "print(len(set(all_domains)))\n"
   ]
  },
  {
   "cell_type": "code",
   "execution_count": 5,
   "id": "6728afaa",
   "metadata": {},
   "outputs": [
    {
     "data": {
      "text/plain": [
       "[{'id': 'https://openalex.org/keywords/guideline',\n",
       "  'display_name': 'Guideline',\n",
       "  'score': 0.7005354},\n",
       " {'id': 'https://openalex.org/keywords/statement',\n",
       "  'display_name': 'Statement (logic)',\n",
       "  'score': 0.6089843},\n",
       " {'id': 'https://openalex.org/keywords/presentation',\n",
       "  'display_name': 'Presentation (obstetrics)',\n",
       "  'score': 0.5513345}]"
      ]
     },
     "execution_count": 5,
     "metadata": {},
     "output_type": "execute_result"
    }
   ],
   "source": [
    "data[\"results\"][0]['keywords']"
   ]
  },
  {
   "cell_type": "code",
   "execution_count": 11,
   "id": "f6a2485e",
   "metadata": {},
   "outputs": [
    {
     "name": "stdout",
     "output_type": "stream",
     "text": [
      "363\n",
      "225\n"
     ]
    }
   ],
   "source": [
    "all_keywords = []\n",
    "for work in data[\"results\"]:\n",
    "    keywords = []\n",
    "    for keyword in work['keywords']:\n",
    "        keywords.append(keyword['id'])\n",
    "    all_keywords.extend(keywords)\n",
    "print(len(all_keywords))\n",
    "print(len(set(all_keywords)))"
   ]
  },
  {
   "cell_type": "code",
   "execution_count": 6,
   "id": "fc49657d",
   "metadata": {},
   "outputs": [
    {
     "data": {
      "text/plain": [
       "[{'id': 'https://openalex.org/C2779356329',\n",
       "  'wikidata': 'https://www.wikidata.org/wiki/Q922625',\n",
       "  'display_name': 'Checklist',\n",
       "  'level': 2,\n",
       "  'score': 0.8905365},\n",
       " {'id': 'https://openalex.org/C189708586',\n",
       "  'wikidata': 'https://www.wikidata.org/wiki/Q1504425',\n",
       "  'display_name': 'Systematic review',\n",
       "  'level': 3,\n",
       "  'score': 0.84047925},\n",
       " {'id': 'https://openalex.org/C2780182762',\n",
       "  'wikidata': 'https://www.wikidata.org/wiki/Q1630279',\n",
       "  'display_name': 'Guideline',\n",
       "  'level': 2,\n",
       "  'score': 0.7005354},\n",
       " {'id': 'https://openalex.org/C2777026412',\n",
       "  'wikidata': 'https://www.wikidata.org/wiki/Q2684591',\n",
       "  'display_name': 'Statement (logic)',\n",
       "  'level': 2,\n",
       "  'score': 0.6089843},\n",
       " {'id': 'https://openalex.org/C547195049',\n",
       "  'wikidata': 'https://www.wikidata.org/wiki/Q1725664',\n",
       "  'display_name': 'Terminology',\n",
       "  'level': 2,\n",
       "  'score': 0.5986307},\n",
       " {'id': 'https://openalex.org/C2777601897',\n",
       "  'wikidata': 'https://www.wikidata.org/wiki/Q3409113',\n",
       "  'display_name': 'Presentation (obstetrics)',\n",
       "  'level': 2,\n",
       "  'score': 0.5513345},\n",
       " {'id': 'https://openalex.org/C2779473830',\n",
       "  'wikidata': 'https://www.wikidata.org/wiki/Q1540899',\n",
       "  'display_name': 'MEDLINE',\n",
       "  'level': 2,\n",
       "  'score': 0.43196487},\n",
       " {'id': 'https://openalex.org/C41008148',\n",
       "  'wikidata': 'https://www.wikidata.org/wiki/Q21198',\n",
       "  'display_name': 'Computer science',\n",
       "  'level': 0,\n",
       "  'score': 0.37748176},\n",
       " {'id': 'https://openalex.org/C539667460',\n",
       "  'wikidata': 'https://www.wikidata.org/wiki/Q2414942',\n",
       "  'display_name': 'Management science',\n",
       "  'level': 1,\n",
       "  'score': 0.37039062},\n",
       " {'id': 'https://openalex.org/C71924100',\n",
       "  'wikidata': 'https://www.wikidata.org/wiki/Q11190',\n",
       "  'display_name': 'Medicine',\n",
       "  'level': 0,\n",
       "  'score': 0.3569594},\n",
       " {'id': 'https://openalex.org/C509550671',\n",
       "  'wikidata': 'https://www.wikidata.org/wiki/Q126945',\n",
       "  'display_name': 'Medical education',\n",
       "  'level': 1,\n",
       "  'score': 0.34241027},\n",
       " {'id': 'https://openalex.org/C15744967',\n",
       "  'wikidata': 'https://www.wikidata.org/wiki/Q9418',\n",
       "  'display_name': 'Psychology',\n",
       "  'level': 0,\n",
       "  'score': 0.30611488},\n",
       " {'id': 'https://openalex.org/C127413603',\n",
       "  'wikidata': 'https://www.wikidata.org/wiki/Q11023',\n",
       "  'display_name': 'Engineering',\n",
       "  'level': 0,\n",
       "  'score': 0.13469541},\n",
       " {'id': 'https://openalex.org/C17744445',\n",
       "  'wikidata': 'https://www.wikidata.org/wiki/Q36442',\n",
       "  'display_name': 'Political science',\n",
       "  'level': 0,\n",
       "  'score': 0.103132755},\n",
       " {'id': 'https://openalex.org/C142724271',\n",
       "  'wikidata': 'https://www.wikidata.org/wiki/Q7208',\n",
       "  'display_name': 'Pathology',\n",
       "  'level': 1,\n",
       "  'score': 0.100149214},\n",
       " {'id': 'https://openalex.org/C199539241',\n",
       "  'wikidata': 'https://www.wikidata.org/wiki/Q7748',\n",
       "  'display_name': 'Law',\n",
       "  'level': 1,\n",
       "  'score': 0.0},\n",
       " {'id': 'https://openalex.org/C41895202',\n",
       "  'wikidata': 'https://www.wikidata.org/wiki/Q8162',\n",
       "  'display_name': 'Linguistics',\n",
       "  'level': 1,\n",
       "  'score': 0.0},\n",
       " {'id': 'https://openalex.org/C138885662',\n",
       "  'wikidata': 'https://www.wikidata.org/wiki/Q5891',\n",
       "  'display_name': 'Philosophy',\n",
       "  'level': 0,\n",
       "  'score': 0.0},\n",
       " {'id': 'https://openalex.org/C180747234',\n",
       "  'wikidata': 'https://www.wikidata.org/wiki/Q23373',\n",
       "  'display_name': 'Cognitive psychology',\n",
       "  'level': 1,\n",
       "  'score': 0.0},\n",
       " {'id': 'https://openalex.org/C126838900',\n",
       "  'wikidata': 'https://www.wikidata.org/wiki/Q77604',\n",
       "  'display_name': 'Radiology',\n",
       "  'level': 1,\n",
       "  'score': 0.0}]"
      ]
     },
     "execution_count": 6,
     "metadata": {},
     "output_type": "execute_result"
    }
   ],
   "source": [
    "data['results'][0]['concepts']"
   ]
  },
  {
   "cell_type": "code",
   "execution_count": 12,
   "id": "355536ca",
   "metadata": {},
   "outputs": [
    {
     "name": "stdout",
     "output_type": "stream",
     "text": [
      "2825\n",
      "769\n"
     ]
    }
   ],
   "source": [
    "all_concepts = []\n",
    "for work in data[\"results\"]:\n",
    "    concepts = []\n",
    "    for concept in work['concepts']:\n",
    "        concepts.append(concept['id'])\n",
    "    all_concepts.extend(concepts)\n",
    "print(len(all_concepts))\n",
    "print(len(set(all_concepts)))"
   ]
  },
  {
   "cell_type": "code",
   "execution_count": null,
   "id": "a1a5c5f2",
   "metadata": {},
   "outputs": [],
   "source": []
  }
 ],
 "metadata": {
  "kernelspec": {
   "display_name": "ml-graphs",
   "language": "python",
   "name": "python3"
  },
  "language_info": {
   "codemirror_mode": {
    "name": "ipython",
    "version": 3
   },
   "file_extension": ".py",
   "mimetype": "text/x-python",
   "name": "python",
   "nbconvert_exporter": "python",
   "pygments_lexer": "ipython3",
   "version": "3.12.9"
  }
 },
 "nbformat": 4,
 "nbformat_minor": 5
}
